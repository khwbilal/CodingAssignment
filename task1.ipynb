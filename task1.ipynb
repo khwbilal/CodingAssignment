{
 "cells": [
  {
   "cell_type": "markdown",
   "id": "391ba9f1",
   "metadata": {},
   "source": [
    "# Task1: Finding childs Ultimate Parent Pairs"
   ]
  },
  {
   "cell_type": "markdown",
   "id": "b2cc35ed",
   "metadata": {},
   "source": [
    "### Reading data set"
   ]
  },
  {
   "cell_type": "code",
   "execution_count": 4,
   "id": "57e90a16",
   "metadata": {},
   "outputs": [],
   "source": [
    "import pandas as pd\n",
    "df = pd.read_csv(\"data_parent.txt\", sep=\"\\t\")\n",
    "ab=df"
   ]
  },
  {
   "cell_type": "markdown",
   "id": "decd57b1",
   "metadata": {},
   "source": [
    "### Main program:"
   ]
  },
  {
   "cell_type": "markdown",
   "id": "f789201b",
   "metadata": {},
   "source": [
    "The following code include the main function along with a recusive function findAllChildNodes which takes a list of index of nodes which are child of specific ultimate parent and search recursively to find the leaf nodes i.e the child nodes against each ultimate parents. the list created through this function is than later used to print all the leaf nodes i.e child nodes of specific utp into an output file. This code has been tested on small simple example first."
   ]
  },
  {
   "cell_type": "code",
   "execution_count": 5,
   "id": "4ab805fc",
   "metadata": {},
   "outputs": [],
   "source": [
    "list1= [] #temprorary list\n",
    "def FindAllChildNodes(a): #a recursive function to get ultimate parent child pairs\n",
    "    b = a.index.values\n",
    "    for i in b:\n",
    "        df5 = ab.loc[ab['Parent'] == ab.at[i, 'Child']]\n",
    "        if not df5.empty:\n",
    "            FindAllChildNodes(df5)  #a recursive method if node has childs\n",
    "        else:\n",
    "            list1.extend(a.index.values)  #adding it to list of of childs if further childs exist\n",
    "\n",
    "# main function        \n",
    "with open(\"output2.txt\",\"w\") as f:  #for writing output to the file \n",
    "    df2 =ab[ab.isnull().any(1)].index.values  #creating Dataframe of all nodes having no parent node  i.e all ultimateparents\n",
    "    for i in df2: #for each ultimate parent\n",
    "        df3 = ab.loc[ab['Parent'] == ab.at[i, 'Child']] #for each utp who is parent of any child node geting new dataframe\n",
    "        list1 = [] #list of childs refreshed to nill intially \n",
    "        if not df3.empty: \n",
    "            FindAllChildNodes(df3) #calling the recursive method to get all the child nodes of an utp\n",
    "        mylist = list(set(list1)) #setting a temprory list\n",
    "        if mylist: \n",
    "            for j in mylist: \n",
    "                df4= ab.loc[ab['Parent'] == ab.at[j, 'Child']]\n",
    "                if df4.empty:\n",
    "                    print(ab.iloc[j,0],'\\t',ab.iloc[i,0],file=f) #printing all the utp and child list here \n",
    "        else:\n",
    "            print(ab.iloc[i,0],file=f)  #printing all those who have no child and are utp themselves"
   ]
  }
 ],
 "metadata": {
  "celltoolbar": "Raw Cell Format",
  "kernelspec": {
   "display_name": "Python 3 (ipykernel)",
   "language": "python",
   "name": "python3"
  },
  "language_info": {
   "codemirror_mode": {
    "name": "ipython",
    "version": 3
   },
   "file_extension": ".py",
   "mimetype": "text/x-python",
   "name": "python",
   "nbconvert_exporter": "python",
   "pygments_lexer": "ipython3",
   "version": "3.9.7"
  }
 },
 "nbformat": 4,
 "nbformat_minor": 5
}
